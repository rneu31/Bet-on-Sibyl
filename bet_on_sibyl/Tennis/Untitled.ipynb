{
 "cells": [
  {
   "cell_type": "code",
   "execution_count": null,
   "metadata": {
    "collapsed": true
   },
   "outputs": [],
   "source": [
    "player_list_first_half = table.find_elements_by_xpath(\"//tbody/tr[@class='rrow1']/td[2]/a[@class='link']\")\n",
    "player_list_second_half = table.find_elements_by_xpath(\"//tbody/tr[@class='rrow2']/td[2]/a[@class='link']\")\n",
    "player_list = player_list_first_half + player_list_second_half"
   ]
  },
  {
   "cell_type": "code",
   "execution_count": null,
   "metadata": {
    "collapsed": true
   },
   "outputs": [],
   "source": [
    "\n",
    "string_to_check = [\"'\", 'Q', 'HT']\n",
    "# For each row in the column,\n",
    "for row in game_df['Time']:\n",
    "    # if more than a value,\n",
    "    if any(s in row for s in string_to_check):\n",
    "        # Append a letter grade\n",
    "        True_Result.append('IN-PLAY')"
   ]
  }
 ],
 "metadata": {
  "kernelspec": {
   "display_name": "Python 2",
   "language": "python",
   "name": "python2"
  },
  "language_info": {
   "codemirror_mode": {
    "name": "ipython",
    "version": 2
   },
   "file_extension": ".py",
   "mimetype": "text/x-python",
   "name": "python",
   "nbconvert_exporter": "python",
   "pygments_lexer": "ipython2",
   "version": "2.7.11"
  }
 },
 "nbformat": 4,
 "nbformat_minor": 0
}
