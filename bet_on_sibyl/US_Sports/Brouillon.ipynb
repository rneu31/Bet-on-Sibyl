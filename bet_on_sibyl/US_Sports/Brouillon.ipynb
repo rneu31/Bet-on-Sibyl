{
 "cells": [
  {
   "cell_type": "code",
   "execution_count": 14,
   "metadata": {
    "collapsed": false
   },
   "outputs": [
    {
     "data": {
      "text/html": [
       "<style>.container { width:100% !important; }</style>"
      ],
      "text/plain": [
       "<IPython.core.display.HTML object>"
      ]
     },
     "execution_count": 14,
     "metadata": {},
     "output_type": "execute_result"
    }
   ],
   "source": [
    "from IPython.core.display import HTML\n",
    "HTML(\"<style>.container { width:100% !important; }</style>\")"
   ]
  },
  {
   "cell_type": "code",
   "execution_count": 16,
   "metadata": {
    "collapsed": false
   },
   "outputs": [],
   "source": [
    "import sys\n",
    "import os\n",
    "sys.path.append(\"C:\\Users\\jbadiabo\\PycharmProjects\\Sibyl\\US_Sports\\MLB\")\n",
    "sys.path.append(\"C:\\Users\\jbadiabo\\PycharmProjects\\Sibyl\\US_Sports\\NBA\")\n",
    "sys.path.append(\"C:\\Users\\jbadiabo\\PycharmProjects\\Sibyl\\US_Sports\\NFL\")\n",
    "sys.path.append(\"C:\\Users\\jbadiabo\\PycharmProjects\\Sibyl\\US_Sports\\NHL\")\n",
    "\n",
    "\n"
   ]
  },
  {
   "cell_type": "code",
   "execution_count": 17,
   "metadata": {
    "collapsed": false
   },
   "outputs": [
    {
     "data": {
      "text/plain": [
       "['',\n",
       " 'C:\\\\Users\\\\jbadiabo\\\\Anaconda3\\\\envs\\\\dato-env\\\\python27.zip',\n",
       " 'C:\\\\Users\\\\jbadiabo\\\\Anaconda3\\\\envs\\\\dato-env\\\\DLLs',\n",
       " 'C:\\\\Users\\\\jbadiabo\\\\Anaconda3\\\\envs\\\\dato-env\\\\lib',\n",
       " 'C:\\\\Users\\\\jbadiabo\\\\Anaconda3\\\\envs\\\\dato-env\\\\lib\\\\plat-win',\n",
       " 'C:\\\\Users\\\\jbadiabo\\\\Anaconda3\\\\envs\\\\dato-env\\\\lib\\\\lib-tk',\n",
       " 'C:\\\\Users\\\\jbadiabo\\\\Anaconda3\\\\envs\\\\dato-env',\n",
       " 'c:\\\\users\\\\jbadiabo\\\\anaconda3\\\\envs\\\\dato-env\\\\lib\\\\site-packages\\\\sphinx-1.3.5-py2.7.egg',\n",
       " 'c:\\\\users\\\\jbadiabo\\\\anaconda3\\\\envs\\\\dato-env\\\\lib\\\\site-packages\\\\setuptools-20.3-py2.7.egg',\n",
       " 'C:\\\\Users\\\\jbadiabo\\\\Anaconda3\\\\envs\\\\dato-env\\\\lib\\\\site-packages',\n",
       " 'C:\\\\Users\\\\jbadiabo\\\\Anaconda3\\\\envs\\\\dato-env\\\\lib\\\\site-packages\\\\win32',\n",
       " 'C:\\\\Users\\\\jbadiabo\\\\Anaconda3\\\\envs\\\\dato-env\\\\lib\\\\site-packages\\\\win32\\\\lib',\n",
       " 'C:\\\\Users\\\\jbadiabo\\\\Anaconda3\\\\envs\\\\dato-env\\\\lib\\\\site-packages\\\\Pythonwin',\n",
       " 'C:\\\\Users\\\\jbadiabo\\\\Anaconda3\\\\envs\\\\dato-env\\\\lib\\\\site-packages\\\\IPython\\\\extensions',\n",
       " 'C:\\\\Users\\\\jbadiabo\\\\.ipython',\n",
       " 'C:\\\\Users\\\\jbadiabo\\\\PycharmProjects\\\\Sibyl\\\\US_Sports\\\\MLB',\n",
       " 'C:\\\\Users\\\\jbadiabo\\\\PycharmProjects\\\\Sibyl\\\\US_Sports\\\\NBA',\n",
       " 'C:\\\\Users\\\\jbadiabo\\\\PycharmProjects\\\\Sibyl\\\\US_Sports\\\\NFL',\n",
       " 'C:\\\\Users\\\\jbadiabo\\\\PycharmProjects\\\\Sibyl\\\\US_Sports\\\\NHL']"
      ]
     },
     "execution_count": 17,
     "metadata": {},
     "output_type": "execute_result"
    }
   ],
   "source": [
    "sys.path"
   ]
  },
  {
   "cell_type": "code",
   "execution_count": null,
   "metadata": {
    "collapsed": true
   },
   "outputs": [],
   "source": []
  },
  {
   "cell_type": "code",
   "execution_count": null,
   "metadata": {
    "collapsed": true
   },
   "outputs": [],
   "source": [
    "\n",
    "x = ModelMLB(2016, 'mlb_1980_2014_features.npz', 'mlb_team_data_2016.db',\n",
    "             'https://www.betbrain.com/baseball/united-states/mlb/', 'mlb_team_stats_2016_2016.csv', 'MLB',\n",
    "             'MLB_Upcoming_Matchups_US_P_df.csv', 'MLB_Upcoming_Matchups_EU_P_df.csv',\n",
    "             'http://www.oddsportal.com/baseball/usa/mlb/results/',\n",
    "             'http://www.oddsportal.com/baseball/usa/mlb/results/#/page/{}/')\n",
    "x()\n",
    "\n",
    "x = ModelNBA(2017,\n",
    "             'nba_features_1980_2014.npz', 'nba_team_data_2017.db',\n",
    "             'https://www.betbrain.com/basketball/united-states/nba/',\n",
    "             'nba_team_stats_2017_2017.csv',\n",
    "             'NBA',\n",
    "             'NBA_Upcoming_Matchups_US_P_df.csv', 'NBA_Upcoming_Matchups_EU_P_df.csv',\n",
    "             'http://www.oddsportal.com/basketball/usa/nba/results/',\n",
    "             'http://www.oddsportal.com/basketball/usa/nba/results/#/page/{}/')\n",
    "x()\n",
    "\n",
    "x = ModelNFL(2016, 'nfl_features_2000_2015.npz', 'nfl_team_data_2016.db',\n",
    "             'https://www.betbrain.com/am-football/united-states/nfl/', 'nfl_team_stats_2016_2016.csv', 'NFL',\n",
    "             'NFL_Upcoming_Matchups_US_P_df.csv', 'NFL_Upcoming_Matchups_EU_P_df.csv',\n",
    "             'http://www.oddsportal.com/american-football/usa/nfl/results/',\n",
    "             'http://www.oddsportal.com/american-football/usa/nfl/results/#/page/{}/')\n",
    "x()\n",
    "\n",
    "x = ModelNHL(2017, 'nhl_features_2006_2015.npz', 'nhl_team_data_2017.db',\n",
    "             'https://www.betbrain.com/ice-hockey/united-states/nhl/', 'nhl_team_stats_2017_2017.csv', 'NHL',\n",
    "             'NHL_Upcoming_Matchups_US_P_df.csv', 'NHL_Upcoming_Matchups_EU_P_df.csv',\n",
    "             'http://www.oddsportal.com/hockey/usa/nhl/results/',\n",
    "             'http://www.oddsportal.com/hockey/usa/nhl/results/#/page/{}/')\n",
    "x()\n",
    "\n",
    "x = ModelMetricsUSSports(\n",
    "    \"us_sports_tableau_output.csv\",\n",
    "    \"us_sports_upcoming_matchups_us_p_df.csv\",\n",
    "    \"us_sports_team_names_list.csv\")\n",
    "\n",
    "x()\n"
   ]
  }
 ],
 "metadata": {
  "kernelspec": {
   "display_name": "Python 2",
   "language": "python",
   "name": "python2"
  },
  "language_info": {
   "codemirror_mode": {
    "name": "ipython",
    "version": 2
   },
   "file_extension": ".py",
   "mimetype": "text/x-python",
   "name": "python",
   "nbconvert_exporter": "python",
   "pygments_lexer": "ipython2",
   "version": "2.7.11"
  }
 },
 "nbformat": 4,
 "nbformat_minor": 0
}
